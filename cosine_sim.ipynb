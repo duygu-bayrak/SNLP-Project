{
 "cells": [
  {
   "cell_type": "code",
   "execution_count": 2,
   "metadata": {},
   "outputs": [],
   "source": [
    "import numpy as np"
   ]
  },
  {
   "cell_type": "markdown",
   "metadata": {},
   "source": [
    "<img src=\"cosine-similarity.png\" width=\"500\"/>"
   ]
  },
  {
   "cell_type": "code",
   "execution_count": 1,
   "metadata": {},
   "outputs": [],
   "source": [
    "def cosine_sim(x, y):\n",
    "    \"\"\"calculates cosine similarity between 2 vectors.\n",
    "        \n",
    "    Parameters\n",
    "    ----------\n",
    "    x : numpy.ndarray\n",
    "        vector representation (of query)\n",
    "    y : numpy.ndarray\n",
    "        vector representation (of document)\n",
    "    \n",
    "    Returns\n",
    "    -------\n",
    "    cosine_sim: numpy.float64\n",
    "        cosine similarity between vector x and y\n",
    "    \"\"\"\n",
    "\n",
    "    if np.count_nonzero(x) == 0 or np.count_nonzero(y) == 0:\n",
    "        return float('-inf')\n",
    "\n",
    "    cos_sim = np.dot(x, y)/(np.linalg.norm(x)*np.linalg.norm(y))\n",
    "    \n",
    "    return cos_sim"
   ]
  },
  {
   "cell_type": "code",
   "execution_count": 4,
   "metadata": {},
   "outputs": [
    {
     "output_type": "execute_result",
     "data": {
      "text/plain": [
       "0.9899494936611664"
      ]
     },
     "metadata": {},
     "execution_count": 4
    }
   ],
   "source": [
    "v1 = np.asarray([1, 2])\n",
    "v2 = np.asarray([1, 3])\n",
    "cosine_sim(v1, v2)"
   ]
  },
  {
   "cell_type": "code",
   "execution_count": 5,
   "metadata": {},
   "outputs": [],
   "source": [
    "def get_k_relevant(k, query, D):\n",
    "    \"\"\"returns ranked list of top k documents in descending order of their\n",
    "    cosine similarity with the query\n",
    "        \n",
    "    Parameters\n",
    "    ----------\n",
    "    k : int\n",
    "        number of documents to retrieve (top k)\n",
    "    query : numpy.ndarray\n",
    "        vector representation of query whose cosine similarity is to be computed with the corpus\n",
    "    D: list of numpy.ndarray\n",
    "        vector representation of all documents in corpus\n",
    "    \n",
    "    Returns\n",
    "    -------\n",
    "    ranked_sims: list of tuples (cosine similarity, index of document)\n",
    "        list of top k cosine similarities and the corresponding documents (their index) in descending order\n",
    "    \"\"\"\n",
    "      \n",
    "    cosine_sims = []\n",
    "    \n",
    "    for i, d in enumerate(D):\n",
    "        cosine_sims.append((cosine_sim(query, d), i))\n",
    "        \n",
    "    ranked_sims = sorted(cosine_sims, key=lambda x: x[0], reverse=True)\n",
    "    \n",
    "    if k != 0:\n",
    "        # if k=0 retrieve all documents in descending order\n",
    "        ranked_sims = ranked_sims[:k]\n",
    "    \n",
    "    return ranked_sims"
   ]
  },
  {
   "cell_type": "code",
   "execution_count": 9,
   "metadata": {},
   "outputs": [],
   "source": [
    "def get_over_thresh(thresh, query, D):\n",
    "    \"\"\"returns ranked list of top k documents in descending order of their\n",
    "    cosine similarity with the query\n",
    "        \n",
    "    Parameters\n",
    "    ----------\n",
    "    thresh : numpy.float64\n",
    "        minimum similarity that returned documents should have\n",
    "    query : numpy.ndarray\n",
    "        vector representation of query whose cosine similarity is to be computed with the corpus\n",
    "    D: list of numpy.ndarray\n",
    "        vector representation of all documents in corpus\n",
    "    \n",
    "    Returns\n",
    "    -------\n",
    "    ranked_sims: list of tuples (cosine similarity, index of document)\n",
    "        list of cosine similarities (greater than thresh) and the corresponding documents (their index) in descending order\n",
    "    \"\"\"\n",
    "      \n",
    "    cosine_sims = []\n",
    "    \n",
    "    for i, d in enumerate(D):\n",
    "        cosine_sims.append((cosine_sim(query, d), i))\n",
    "        \n",
    "    ranked_sims = sorted(cosine_sims, key=lambda x: x[0], reverse=True)\n",
    "    \n",
    "    if thresh != 1:\n",
    "        # if thresh=1 retrieve all documents in descending order\n",
    "        ranked_sims = [elem for elem in ranked_sims if elem[0]>=thresh ]\n",
    "    \n",
    "    return ranked_sims"
   ]
  },
  {
   "cell_type": "code",
   "execution_count": 10,
   "metadata": {},
   "outputs": [
    {
     "output_type": "stream",
     "name": "stdout",
     "text": [
      "get 2 top:  [(0.9984603532054125, 2), (0.9838699100999074, 0)]\nget all:  [(0.9984603532054125, 2), (0.9838699100999074, 0), (0.9486832980505138, 1)]\nthreshold  0.95 [(0.9984603532054125, 2), (0.9838699100999074, 0)]\n"
     ]
    }
   ],
   "source": [
    "v3 = np.asarray([2,3])\n",
    "D = [v1, v2, v3]\n",
    "query = np.asarray([3,4])\n",
    "print(\"get 2 top: \", get_k_relevant(2, query, D))\n",
    "print(\"get all: \", get_k_relevant(0, query, D))\n",
    "\n",
    "thresh = 0.95\n",
    "print(\"threshold \",thresh, get_over_thresh(thresh, query, D))"
   ]
  }
 ],
 "metadata": {
  "kernelspec": {
   "name": "python390jvsc74a57bd04f90bca6d5532465107dddf48f58200c9df515003323938e85648d01de9b439e",
   "display_name": "Python 3.9.0 32-bit"
  },
  "language_info": {
   "codemirror_mode": {
    "name": "ipython",
    "version": 3
   },
   "file_extension": ".py",
   "mimetype": "text/x-python",
   "name": "python",
   "nbconvert_exporter": "python",
   "pygments_lexer": "ipython3",
   "version": "3.9.0"
  },
  "varInspector": {
   "cols": {
    "lenName": 16,
    "lenType": 16,
    "lenVar": 40
   },
   "kernels_config": {
    "python": {
     "delete_cmd_postfix": "",
     "delete_cmd_prefix": "del ",
     "library": "var_list.py",
     "varRefreshCmd": "print(var_dic_list())"
    },
    "r": {
     "delete_cmd_postfix": ") ",
     "delete_cmd_prefix": "rm(",
     "library": "var_list.r",
     "varRefreshCmd": "cat(var_dic_list()) "
    }
   },
   "types_to_exclude": [
    "module",
    "function",
    "builtin_function_or_method",
    "instance",
    "_Feature"
   ],
   "window_display": false
  },
  "metadata": {
   "interpreter": {
    "hash": "4f90bca6d5532465107dddf48f58200c9df515003323938e85648d01de9b439e"
   }
  }
 },
 "nbformat": 4,
 "nbformat_minor": 2
}