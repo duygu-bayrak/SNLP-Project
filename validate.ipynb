{
  "nbformat": 4,
  "nbformat_minor": 0,
  "metadata": {
    "colab": {
      "name": "validate.ipynb",
      "provenance": [],
      "collapsed_sections": []
    },
    "kernelspec": {
      "name": "python3",
      "display_name": "Python 3"
    },
    "language_info": {
      "name": "python"
    }
  },
  "cells": [
    {
      "cell_type": "markdown",
      "metadata": {
        "id": "ULOAPk0-YclS"
      },
      "source": [
        "# Initialization"
      ]
    },
    {
      "cell_type": "code",
      "metadata": {
        "id": "s5f1MHQZWc7S",
        "colab": {
          "base_uri": "https://localhost:8080/"
        },
        "outputId": "6d2d6982-eb47-4af8-8212-784dc0479390"
      },
      "source": [
        "print(\"Hello there.\")"
      ],
      "execution_count": 1,
      "outputs": [
        {
          "output_type": "stream",
          "text": [
            "Hello there.\n"
          ],
          "name": "stdout"
        }
      ]
    },
    {
      "cell_type": "code",
      "metadata": {
        "id": "zi7jFlJ0WjxQ",
        "colab": {
          "base_uri": "https://localhost:8080/"
        },
        "outputId": "dabd1389-23b0-4730-cc85-e63ef2b82fdb"
      },
      "source": [
        "# Colab specific data upload\n",
        "!unzip cran.zip\n",
        "!unzip cisi.zip"
      ],
      "execution_count": 2,
      "outputs": [
        {
          "output_type": "stream",
          "text": [
            "Archive:  cran.zip\n",
            "replace cran/cran.all.1400? [y]es, [n]o, [A]ll, [N]one, [r]ename: N\n",
            "Archive:  cisi.zip\n",
            "replace cisi/CISI.ALL? [y]es, [n]o, [A]ll, [N]one, [r]ename: N\n"
          ],
          "name": "stdout"
        }
      ]
    },
    {
      "cell_type": "code",
      "metadata": {
        "id": "jQS8XEvyyt_7"
      },
      "source": [
        "# Auto re-import .py files\n",
        "%load_ext autoreload\n",
        "%autoreload 2\n",
        "\n",
        "# Plotting with plt\n",
        "%matplotlib inline"
      ],
      "execution_count": 2,
      "outputs": []
    },
    {
      "cell_type": "code",
      "metadata": {
        "colab": {
          "base_uri": "https://localhost:8080/"
        },
        "id": "-4iMFcHkUAeA",
        "outputId": "5882d40a-2430-4342-b578-1efc0480f6fa"
      },
      "source": [
        "import numpy as np\n",
        "import pandas as pd\n",
        "import pprint\n",
        "\n",
        "from preprocessing import *\n",
        "from synonym_enrich import *\n",
        "from validate import *"
      ],
      "execution_count": 3,
      "outputs": [
        {
          "output_type": "stream",
          "text": [
            "[nltk_data] Downloading package punkt to /root/nltk_data...\n",
            "[nltk_data]   Package punkt is already up-to-date!\n",
            "[nltk_data] Downloading package stopwords to /root/nltk_data...\n",
            "[nltk_data]   Package stopwords is already up-to-date!\n",
            "[nltk_data] Downloading package wordnet to /root/nltk_data...\n",
            "[nltk_data]   Package wordnet is already up-to-date!\n"
          ],
          "name": "stdout"
        }
      ]
    },
    {
      "cell_type": "code",
      "metadata": {
        "colab": {
          "base_uri": "https://localhost:8080/"
        },
        "id": "8T8HX9ZIYaAA",
        "outputId": "3a5e6b51-8e4e-43ba-e109-a569b3eb58f5"
      },
      "source": [
        "!pip install --upgrade gensim\n",
        "from gensim.models.word2vec import Word2Vec\n",
        "from gensim.models.doc2vec import Doc2Vec, TaggedDocument"
      ],
      "execution_count": 4,
      "outputs": [
        {
          "output_type": "stream",
          "text": [
            "Requirement already up-to-date: gensim in /usr/local/lib/python3.7/dist-packages (4.0.1)\n",
            "Requirement already satisfied, skipping upgrade: smart-open>=1.8.1 in /usr/local/lib/python3.7/dist-packages (from gensim) (5.0.0)\n",
            "Requirement already satisfied, skipping upgrade: numpy>=1.11.3 in /usr/local/lib/python3.7/dist-packages (from gensim) (1.19.5)\n",
            "Requirement already satisfied, skipping upgrade: scipy>=0.18.1 in /usr/local/lib/python3.7/dist-packages (from gensim) (1.4.1)\n"
          ],
          "name": "stdout"
        },
        {
          "output_type": "stream",
          "text": [
            "/usr/local/lib/python3.7/dist-packages/gensim/similarities/__init__.py:15: UserWarning: The gensim.similarities.levenshtein submodule is disabled, because the optional Levenshtein package <https://pypi.org/project/python-Levenshtein/> is unavailable. Install Levenhstein (e.g. `pip install python-Levenshtein`) to suppress this warning.\n",
            "  warnings.warn(msg)\n"
          ],
          "name": "stderr"
        }
      ]
    },
    {
      "cell_type": "markdown",
      "metadata": {
        "id": "rzcV5G5DYhdS"
      },
      "source": [
        "# Validation Core\n",
        "\n",
        "\n"
      ]
    },
    {
      "cell_type": "markdown",
      "metadata": {
        "id": "THTtI4cC-EHb"
      },
      "source": [
        "## Cisi dataset"
      ]
    },
    {
      "cell_type": "code",
      "metadata": {
        "id": "6f9ZMgjH98ho"
      },
      "source": [
        "params = {\n",
        "    \"clean_baseline\": {\n",
        "        \"data_parse_fnt\": parseDocs,\n",
        "        \"retrieval_fnt\": read_cisi_relevancy,\n",
        "        \"doc_args\": [\"cisi/CISI.ALL\",],\n",
        "        \"query_args\": [\"cisi/CISI.QRY\",],\n",
        "        \"retrieval_args\": {\n",
        "            \"path\": \"cisi/CISI.REL\",},\n",
        "        \"preprocessings\": [\n",
        "            tokenize_and_clean,\n",
        "        ],\n",
        "        \"use_tfidf\": True,\n",
        "        \"use_lsi\": False,\n",
        "        \"d\": 50,\n",
        "        \"embedding\": None,\n",
        "        \"k\": 10,\n",
        "        \"test_size\": 0.3,\n",
        "    },\n",
        "    \"lemma_baseline\": {\n",
        "        \"data_parse_fnt\": parseDocs,\n",
        "        \"retrieval_fnt\": read_cisi_relevancy,\n",
        "        \"doc_args\": [\"cisi/CISI.ALL\",],\n",
        "        \"query_args\": [\"cisi/CISI.QRY\",],\n",
        "        \"retrieval_args\": {\n",
        "            \"path\": \"cisi/CISI.REL\",},\n",
        "        \"preprocessings\": [\n",
        "            tokenize_and_clean,\n",
        "            lemmatize,\n",
        "        ],\n",
        "        \"use_tfidf\": True,\n",
        "        \"use_lsi\": False,\n",
        "        \"d\": 50,\n",
        "        \"embedding\": None,\n",
        "        \"k\": 10,\n",
        "        \"test_size\": 0.3,\n",
        "    },\n",
        "    \"lemma_baseline_dimred\": {\n",
        "        \"data_parse_fnt\": parseDocs,\n",
        "        \"retrieval_fnt\": read_cisi_relevancy,\n",
        "        \"doc_args\": [\"cisi/CISI.ALL\",],\n",
        "        \"query_args\": [\"cisi/CISI.QRY\",],\n",
        "        \"retrieval_args\": {\n",
        "            \"path\": \"cisi/CISI.REL\",},\n",
        "        \"preprocessings\": [\n",
        "            tokenize_and_clean,\n",
        "            lemmatize,\n",
        "        ],\n",
        "        \"use_tfidf\": True,\n",
        "        \"use_lsi\": True,\n",
        "        \"d\": 50,\n",
        "        \"embedding\": None,\n",
        "        \"k\": 10,\n",
        "        \"test_size\": 0.3,\n",
        "    },\n",
        "    \"synEn_baseline\": {\n",
        "        \"data_parse_fnt\": parseDocs,\n",
        "        \"retrieval_fnt\": read_cisi_relevancy,\n",
        "        \"doc_args\": [\"cisi/CISI.ALL\",],\n",
        "        \"query_args\": [\"cisi/CISI.QRY\",],\n",
        "        \"retrieval_args\": {\n",
        "            \"path\": \"cisi/CISI.REL\",},\n",
        "        \"preprocessings\": [\n",
        "            tokenize_and_clean,\n",
        "            lemmatize,\n",
        "            synonym_enrich,\n",
        "        ],\n",
        "        \"use_tfidf\": True,\n",
        "        \"use_lsi\": False,\n",
        "        \"d\": 50,\n",
        "        \"embedding\": None,\n",
        "        \"k\": 10,\n",
        "        \"test_size\": 0.3,\n",
        "    },\n",
        "    \"synEn_baseline_dimred\": {\n",
        "        \"data_parse_fnt\": parseDocs,\n",
        "        \"retrieval_fnt\": read_cisi_relevancy,\n",
        "        \"doc_args\": [\"cisi/CISI.ALL\",],\n",
        "        \"query_args\": [\"cisi/CISI.QRY\",],\n",
        "        \"retrieval_args\": {\n",
        "            \"path\": \"cisi/CISI.REL\",},\n",
        "        \"preprocessings\": [\n",
        "            tokenize_and_clean,\n",
        "            lemmatize,\n",
        "            synonym_enrich,\n",
        "        ],\n",
        "        \"use_tfidf\": True,\n",
        "        \"use_lsi\": True,\n",
        "        \"d\": 50,\n",
        "        \"embedding\": None,\n",
        "        \"k\": 10,\n",
        "        \"test_size\": 0.3,\n",
        "    },\n",
        "    \"clean_posVec\": {\n",
        "        \"data_parse_fnt\": parseDocs,\n",
        "        \"retrieval_fnt\": read_cisi_relevancy,\n",
        "        \"doc_args\": [\"cisi/CISI.ALL\",],\n",
        "        \"query_args\": [\"cisi/CISI.QRY\",],\n",
        "        \"retrieval_args\": {\n",
        "            \"path\": \"cisi/CISI.REL\",},\n",
        "        \"preprocessings\": [\n",
        "            tokenize_and_clean,\n",
        "        ],\n",
        "        \"use_tfidf\": False,\n",
        "        \"use_lsi\": False,\n",
        "        \"d\": 50,\n",
        "        \"embedding\": Word2Vec.load(\"w2v.model\"),\n",
        "        \"use_position_vector\": True,\n",
        "        \"k\": 10,\n",
        "        \"test_size\": 0.3,\n",
        "    },\n",
        "    \"lemma_posVec\": {\n",
        "        \"data_parse_fnt\": parseDocs,\n",
        "        \"retrieval_fnt\": read_cisi_relevancy,\n",
        "        \"doc_args\": [\"cisi/CISI.ALL\",],\n",
        "        \"query_args\": [\"cisi/CISI.QRY\",],\n",
        "        \"retrieval_args\": {\n",
        "            \"path\": \"cisi/CISI.REL\",},\n",
        "        \"preprocessings\": [\n",
        "            tokenize_and_clean,\n",
        "            lemmatize,\n",
        "        ],\n",
        "        \"use_tfidf\": False,\n",
        "        \"use_lsi\": False,\n",
        "        \"d\": 50,\n",
        "        \"embedding\": Word2Vec.load(\"w2v.model\"),\n",
        "        \"use_position_vector\": True,\n",
        "        \"k\": 10,\n",
        "        \"test_size\": 0.3,\n",
        "    },\n",
        "    \"synEn_posVec\": {\n",
        "        \"data_parse_fnt\": parseDocs,\n",
        "        \"retrieval_fnt\": read_cisi_relevancy,\n",
        "        \"doc_args\": [\"cisi/CISI.ALL\",],\n",
        "        \"query_args\": [\"cisi/CISI.QRY\",],\n",
        "        \"retrieval_args\": {\n",
        "            \"path\": \"cisi/CISI.REL\",},\n",
        "        \"preprocessings\": [\n",
        "            tokenize_and_clean,\n",
        "            lemmatize,\n",
        "            synonym_enrich,\n",
        "        ],\n",
        "        \"use_tfidf\": False,\n",
        "        \"use_lsi\": False,\n",
        "        \"d\": 50,\n",
        "        \"embedding\": Word2Vec.load(\"w2v.model\"),\n",
        "        \"use_position_vector\": True,\n",
        "        \"k\": 10,\n",
        "        \"test_size\": 0.3,\n",
        "    },\n",
        "    \"clean_d2v\": {\n",
        "        \"data_parse_fnt\": parseDocs,\n",
        "        \"retrieval_fnt\": read_cisi_relevancy,\n",
        "        \"doc_args\": [\"cisi/CISI.ALL\",],\n",
        "        \"query_args\": [\"cisi/CISI.QRY\",],\n",
        "        \"retrieval_args\": {\n",
        "            \"path\": \"cisi/CISI.REL\",},\n",
        "        \"preprocessings\": [\n",
        "            tokenize_and_clean,\n",
        "        ],\n",
        "        \"use_tfidf\": False,\n",
        "        \"use_lsi\": False,\n",
        "        \"d\": 50,\n",
        "        \"embedding\": Doc2Vec.load(\"d2v.model\"),\n",
        "        \"use_position_vector\": False,\n",
        "        \"k\": 10,\n",
        "        \"test_size\": 0.3,\n",
        "    },\n",
        "    \"lemma_d2v\": {\n",
        "        \"data_parse_fnt\": parseDocs,\n",
        "        \"retrieval_fnt\": read_cisi_relevancy,\n",
        "        \"doc_args\": [\"cisi/CISI.ALL\",],\n",
        "        \"query_args\": [\"cisi/CISI.QRY\",],\n",
        "        \"retrieval_args\": {\n",
        "            \"path\": \"cisi/CISI.REL\",},\n",
        "        \"preprocessings\": [\n",
        "            tokenize_and_clean,\n",
        "            lemmatize,\n",
        "        ],\n",
        "        \"use_tfidf\": False,\n",
        "        \"use_lsi\": False,\n",
        "        \"d\": 50,\n",
        "        \"embedding\": Doc2Vec.load(\"d2v.model\"),\n",
        "        \"use_position_vector\": False,\n",
        "        \"k\": 10,\n",
        "        \"test_size\": 0.3,\n",
        "    },\n",
        "    \"synEn_d2v\": {\n",
        "        \"data_parse_fnt\": parseDocs,\n",
        "        \"retrieval_fnt\": read_cisi_relevancy,\n",
        "        \"doc_args\": [\"cisi/CISI.ALL\",],\n",
        "        \"query_args\": [\"cisi/CISI.QRY\",],\n",
        "        \"retrieval_args\": {\n",
        "            \"path\": \"cisi/CISI.REL\",},\n",
        "        \"preprocessings\": [\n",
        "            tokenize_and_clean,\n",
        "            lemmatize,\n",
        "            synonym_enrich,\n",
        "        ],\n",
        "        \"use_tfidf\": False,\n",
        "        \"use_lsi\": False,\n",
        "        \"d\": 5,\n",
        "        \"embedding\": Doc2Vec.load(\"d2v.model\"),\n",
        "        \"use_position_vector\": False,\n",
        "        \"k\": 10,\n",
        "        \"test_size\": 0.3,\n",
        "    },\n",
        "}\n",
        "\n",
        "results = {}\n",
        "# pprint.pprint({k: validate(**v) for k, v in params.items()})"
      ],
      "execution_count": 5,
      "outputs": []
    },
    {
      "cell_type": "code",
      "metadata": {
        "id": "M9VP34NnFtxc"
      },
      "source": [
        "results[\"clean_baseline\"] = validate(**params[\"clean_baseline\"])"
      ],
      "execution_count": 6,
      "outputs": []
    },
    {
      "cell_type": "code",
      "metadata": {
        "id": "65lHkKz9GPlu"
      },
      "source": [
        "results[\"lemma_baseline\"] = validate(**params[\"lemma_baseline\"])"
      ],
      "execution_count": 7,
      "outputs": []
    },
    {
      "cell_type": "code",
      "metadata": {
        "id": "BxyBDM1LGVli"
      },
      "source": [
        "results[\"lemma_baseline_dimred\"] = validate(**params[\"lemma_baseline_dimred\"])"
      ],
      "execution_count": 8,
      "outputs": []
    },
    {
      "cell_type": "code",
      "metadata": {
        "id": "CjGvjGbsGbvF"
      },
      "source": [
        "results[\"synEn_baseline_dimred\"] = validate(**params[\"synEn_baseline_dimred\"])"
      ],
      "execution_count": 9,
      "outputs": []
    },
    {
      "cell_type": "code",
      "metadata": {
        "colab": {
          "base_uri": "https://localhost:8080/"
        },
        "id": "OJGcPkQUGhMf",
        "outputId": "2fdbb87a-2916-4b38-82b4-90defd257d7f"
      },
      "source": [
        "results[\"clean_posVec\"] = validate(**params[\"clean_posVec\"])"
      ],
      "execution_count": 10,
      "outputs": [
        {
          "output_type": "stream",
          "text": [
            "/content/cosine_sim.py:20: RuntimeWarning: invalid value encountered in double_scalars\n",
            "  cos_sim = np.dot(x, y)/(np.linalg.norm(x)*np.linalg.norm(y))\n"
          ],
          "name": "stderr"
        }
      ]
    },
    {
      "cell_type": "code",
      "metadata": {
        "colab": {
          "base_uri": "https://localhost:8080/"
        },
        "id": "e-iWAUdDGiip",
        "outputId": "d792b58f-e370-4497-fdb6-4ccee60b16d0"
      },
      "source": [
        "results[\"lemma_posVec\"] = validate(**params[\"lemma_posVec\"])"
      ],
      "execution_count": 11,
      "outputs": [
        {
          "output_type": "stream",
          "text": [
            "/content/cosine_sim.py:20: RuntimeWarning: invalid value encountered in double_scalars\n",
            "  cos_sim = np.dot(x, y)/(np.linalg.norm(x)*np.linalg.norm(y))\n"
          ],
          "name": "stderr"
        }
      ]
    },
    {
      "cell_type": "code",
      "metadata": {
        "id": "kgr0OaYnGi_l"
      },
      "source": [
        "results[\"synEn_posVec\"] = validate(**params[\"synEn_posVec\"])"
      ],
      "execution_count": 12,
      "outputs": []
    },
    {
      "cell_type": "code",
      "metadata": {
        "id": "EFpVjbHoGjil"
      },
      "source": [
        "results[\"clean_d2v\"] = validate(**params[\"clean_d2v\"])"
      ],
      "execution_count": 13,
      "outputs": []
    },
    {
      "cell_type": "code",
      "metadata": {
        "id": "KM5gJry3Gj92"
      },
      "source": [
        "results[\"lemma_d2v\"] = validate(**params[\"lemma_d2v\"])"
      ],
      "execution_count": 14,
      "outputs": []
    },
    {
      "cell_type": "code",
      "metadata": {
        "id": "G_zgmrqjG4WG"
      },
      "source": [
        "results[\"synEn_d2v\"] = validate(**params[\"synEn_d2v\"])"
      ],
      "execution_count": 15,
      "outputs": []
    },
    {
      "cell_type": "code",
      "metadata": {
        "colab": {
          "base_uri": "https://localhost:8080/"
        },
        "id": "HgqTK5HIIG-C",
        "outputId": "332a2243-ca2f-4a3b-dc7b-5946c7994957"
      },
      "source": [
        "pprint.pprint(results)"
      ],
      "execution_count": 17,
      "outputs": [
        {
          "output_type": "stream",
          "text": [
            "{'clean_baseline': {'F1': 5.508094176247431,\n",
            "                    'MRR': 62.2463768115942,\n",
            "                    'mAP': 55.13041561229966,\n",
            "                    'precision': 2.8320428826682553,\n",
            "                    'precision@10': 33.043478260869556,\n",
            "                    'recall': 100.0,\n",
            "                    'recall@10': 33.6231884057971},\n",
            " 'clean_d2v': {'F1': 4.829850919764029,\n",
            "               'MRR': 10.91614906832298,\n",
            "               'mAP': 11.17494824016563,\n",
            "               'precision': 2.474687313877308,\n",
            "               'precision@10': 4.347826086956523,\n",
            "               'recall': 100.0,\n",
            "               'recall@10': 5.6521739130434785},\n",
            " 'clean_posVec': {'F1': 4.181123713444324,\n",
            "                  'MRR': 5.041407867494825,\n",
            "                  'mAP': 5.041407867494825,\n",
            "                  'precision': 2.135199523525908,\n",
            "                  'precision@10': 2.1739130434782608,\n",
            "                  'recall': 100.0,\n",
            "                  'recall@10': 2.1739130434782608},\n",
            " 'lemma_baseline': {'F1': 4.931888814662058,\n",
            "                    'MRR': 50.0,\n",
            "                    'mAP': 47.08063031976074,\n",
            "                    'precision': 2.52829064919595,\n",
            "                    'precision@10': 30.869565217391305,\n",
            "                    'recall': 100.0,\n",
            "                    'recall@10': 30.869565217391305},\n",
            " 'lemma_baseline_dimred': {'F1': 5.265599628856414,\n",
            "                           'MRR': 66.24223602484471,\n",
            "                           'mAP': 58.06363310219417,\n",
            "                           'precision': 2.703990470518166,\n",
            "                           'precision@10': 38.69565217391305,\n",
            "                           'recall': 100.0,\n",
            "                           'recall@10': 39.67391304347827},\n",
            " 'lemma_d2v': {'F1': 4.51740598439865,\n",
            "               'MRR': 7.391304347826087,\n",
            "               'mAP': 8.302277432712215,\n",
            "               'precision': 2.3108993448481234,\n",
            "               'precision@10': 4.347826086956521,\n",
            "               'recall': 100.0,\n",
            "               'recall@10': 4.347826086956521},\n",
            " 'lemma_posVec': {'F1': 6.008087810514152,\n",
            "                  'MRR': 10.70048309178744,\n",
            "                  'mAP': 10.288129744651483,\n",
            "                  'precision': 3.0970815961882066,\n",
            "                  'precision@10': 6.086956521739131,\n",
            "                  'recall': 100.0,\n",
            "                  'recall@10': 6.086956521739131},\n",
            " 'synEn_baseline_dimred': {'F1': 5.3728229054974355,\n",
            "                           'MRR': 47.196342305037966,\n",
            "                           'mAP': 40.61618850438727,\n",
            "                           'precision': 2.7605717689100655,\n",
            "                           'precision@10': 24.782608695652176,\n",
            "                           'recall': 100.0,\n",
            "                           'recall@10': 25.99033816425121},\n",
            " 'synEn_d2v': {'F1': 4.710671706891539,\n",
            "               'MRR': 7.111801242236025,\n",
            "               'mAP': 7.236024844720497,\n",
            "               'precision': 2.4121500893388923,\n",
            "               'precision@10': 3.4782608695652173,\n",
            "               'recall': 100.0,\n",
            "               'recall@10': 3.6956521739130435},\n",
            " 'synEn_posVec': {'F1': 4.318056000699279,\n",
            "                  'MRR': 15.760869565217392,\n",
            "                  'mAP': 15.583160800552104,\n",
            "                  'precision': 2.2066706372840974,\n",
            "                  'precision@10': 5.217391304347827,\n",
            "                  'recall': 100.0,\n",
            "                  'recall@10': 5.326086956521739}}\n"
          ],
          "name": "stdout"
        }
      ]
    },
    {
      "cell_type": "code",
      "metadata": {
        "colab": {
          "base_uri": "https://localhost:8080/"
        },
        "id": "BgVhz2Q9tp6K",
        "outputId": "1a2a9a9c-9550-4c68-ba9d-5e2b8126cb23"
      },
      "source": [
        "params = {\n",
        "    \"data_parse_fnt\": parseDocs,\n",
        "    \"retrieval_fnt\": read_cisi_relevancy,\n",
        "    \"doc_args\": [\"cisi/CISI.ALL\",],\n",
        "    \"query_args\": [\"cisi/CISI.QRY\",],\n",
        "    \"retrieval_args\": {\n",
        "        \"path\": \"cisi/CISI.REL\",},\n",
        "    \"preprocessings\": [\n",
        "        tokenize_and_clean,\n",
        "        lemmatize,\n",
        "        # synonym_enrich,\n",
        "    ],\n",
        "    \"use_tfidf\": False,\n",
        "    \"use_lsi\": False,\n",
        "    \"use_position_vector\": True,\n",
        "    \"d\": 5,\n",
        "    # \"embedding\": None,\n",
        "    # \"embedding\": Word2Vec.load(\"w2v.model\"),\n",
        "    \"embedding\": Doc2Vec.load(\"d2v.model\"),\n",
        "    \"simimarity_threshold\": 0.8,\n",
        "    \"k\": 10,\n",
        "    \"test_size\": 0.3,\n",
        "}\n",
        "\n",
        "pprint.pprint(validate(**params))"
      ],
      "execution_count": 30,
      "outputs": [
        {
          "output_type": "stream",
          "text": [
            "{'F1': 5.952036983530771,\n",
            " 'MRR': 8.899240855762594,\n",
            " 'mAP': 8.816425120772946,\n",
            " 'precision': 3.067301965455629,\n",
            " 'precision@10': 5.6521739130434785,\n",
            " 'recall': 100.0,\n",
            " 'recall@10': 5.6521739130434785}\n"
          ],
          "name": "stdout"
        }
      ]
    },
    {
      "cell_type": "code",
      "metadata": {
        "colab": {
          "base_uri": "https://localhost:8080/"
        },
        "id": "oZ73AuB_z_lP",
        "outputId": "f198efb7-674e-4ccc-abdc-e5f9a3e43f12"
      },
      "source": [
        "recall([0,1,1], 10)"
      ],
      "execution_count": 31,
      "outputs": [
        {
          "output_type": "execute_result",
          "data": {
            "text/plain": [
              "0.2"
            ]
          },
          "metadata": {
            "tags": []
          },
          "execution_count": 31
        }
      ]
    },
    {
      "cell_type": "code",
      "metadata": {
        "id": "ZVCKmoDiVE_l"
      },
      "source": [
        ""
      ],
      "execution_count": null,
      "outputs": []
    }
  ]
}